{
  "nbformat": 4,
  "nbformat_minor": 0,
  "metadata": {
    "colab": {
      "name": "Copy of 9Sinif-4Odev.ipynb",
      "provenance": [],
      "collapsed_sections": [],
      "include_colab_link": true
    },
    "kernelspec": {
      "name": "python3",
      "display_name": "Python 3"
    }
  },
  "cells": [
    {
      "cell_type": "markdown",
      "metadata": {
        "id": "view-in-github",
        "colab_type": "text"
      },
      "source": [
        "<a href=\"https://colab.research.google.com/github/EnesIrak/9Fizik/blob/master/Copy_of_9Sinif_4Odev.ipynb\" target=\"_parent\"><img src=\"https://colab.research.google.com/assets/colab-badge.svg\" alt=\"Open In Colab\"/></a>"
      ]
    },
    {
      "cell_type": "markdown",
      "metadata": {
        "id": "mmLIOlO1MwFm",
        "colab_type": "text"
      },
      "source": [
        "Kod yazmak istediğinde ``+ Code`` tuşuna basman, metin girmek istediğinde ``+ Text`` düğmesine basman yeterli. Metin  yazarken Colab'a ait özel markdown kelime işlemcesini kullanacağız. Bu Github'ın Markdown  bazı bakımdan farklı komutlar içerecek. \n",
        "\n",
        "Örnek olarak matematiksel formüller kollunacağız. Bir satır içeresinde matamatiksel ifade yazmak istersen, matematiksel ifadeyi iki dolar işareti arasına alman gerekir. Örnek olarak $x^2$ yazmak için yapmamız gereken \\\\$x^2\\$ olarak yazman gerek.  Pisagor teoremi örnek olarak $a^2+b^2=c^2$ şeklinde verilir.  Eğer matematiği iki satır arasında göstermek istiyorsan, \n",
        "\n",
        "\\\\$$\n",
        "\n",
        "x^2+y^2=c^2\n",
        "\n",
        "\\$$\n",
        "\n",
        "olarak yazabilirsin. Mesela yukarıdaki denklemi şu şekilde yazabiliriz. \n",
        "\n",
        "$$\n",
        "x^2+y^2=c^2 \n",
        "$$\n",
        "Mesela matematiğin  en ünlü formülünü yazalım:\n",
        "\n",
        "$$\n",
        "e^{i\\pi}+1=0 \n",
        "$$\n",
        "\n",
        "Bu formülün niçin matematiğin en ünlü formülü olduğunu öğrenmek için [buraya](https://www.youtube.com/watch?v=IUTGFQpKaPU) bakabilirsin. Tabiki de daha güzel denklemleri de yazabilirsin. Bunun gibi:\n",
        "\n",
        "\\begin{align} \n",
        "(a+b)^3 &= (a+b)^2(a+b)\\\\\n",
        "&=(a^2+2ab+b^2)(a+b)\\\\\n",
        "&=(a^3+2a^2b+ab^2) + (a^2b+2ab^2+b^3)\\\\\n",
        "&=a^3+3a^2b+3ab^2+b^3\n",
        "\\end{align}\n",
        "\n",
        "Matematik ve fizik formüllerini kullanırken LaTeX matematik yazım kurallarını kullanacağız. Daha fazla bilgi için [buraya](https://math.meta.stackexchange.com/questions/5020/mathjax-basic-tutorial-and-quick-reference) bakabilirsin.\n",
        "\n",
        "**Ödev 1** Yukarıda verilen bağlantıyı kullanırak LaTeX ile bir fizik veya matematik formülünü aşağıya yaz. \n",
        "Kinetik Enerji Formülü:\n",
        "$$\n",
        "KE=(1/2)mv^2\n",
        "$$\n",
        "*Not:* Colab LaTeX'in bütün yazım kurallarını kapsamıyor. Onun için LaTeX'in bütün özelliklerini Colab'da kullanımıyabilirsin. Yukarıdaki bağlantıdaki bazı örnekleri yazamıyabilirsin. \n",
        "\n",
        "1'den $n$'e kadar sayıların toplamını kısaca $\\sum_{}{}$ işareti ile göstereceğim. Örnek olarak 1'den n'e kadar sayıların toplamı\n",
        "\n",
        "$$\n",
        "\\sum_{i=0}^n i = \\frac{n(n+1)}{2}\n",
        "$$\n",
        "\n",
        "formülü ile verilir. \n",
        "\n",
        "Örnek olarak 1'den 100'ye kadar sayıların toplamını kısaca \n",
        "\n",
        "$$\n",
        "\\sum_{i=0}^{100} i = \\frac{100(100+1)}{2}\n",
        "$$\n",
        "\n",
        "verilir. Yukarıdaki toplamın cevabı 5050'dir. Yukarıdaki formülü ilkokulda Gauss'un bulduğu  söyleniyor. Bunu aşağıdaki kodu kullanarak ispatlıyalım.\n",
        "\n"
      ]
    },
    {
      "cell_type": "code",
      "metadata": {
        "id": "IrZOY77Ij6MP",
        "colab_type": "code",
        "colab": {}
      },
      "source": [
        "sum = 0\n",
        "for i in range(1,101):\n",
        "  sum = sum +i\n",
        "print (sum)       "
      ],
      "execution_count": 0,
      "outputs": []
    },
    {
      "cell_type": "markdown",
      "metadata": {
        "id": "sp3NDmjvQGVM",
        "colab_type": "text"
      },
      "source": [
        "Şimdi de yukarıda yazdığımız kodu bir fonksiyonun içine koyalım."
      ]
    },
    {
      "cell_type": "code",
      "metadata": {
        "colab_type": "code",
        "id": "ySGh-FCUQXNI",
        "colab": {}
      },
      "source": [
        "def Gauss(n):\n",
        "  sum = 0\n",
        "  for i in range(1,101):\n",
        "    sum = sum +i\n",
        "  return sum\n",
        "\n",
        "\n"
      ],
      "execution_count": 0,
      "outputs": []
    },
    {
      "cell_type": "code",
      "metadata": {
        "id": "6Kl9_kGB8Sjj",
        "colab_type": "code",
        "outputId": "70385fc4-ae53-4c27-f81f-de4358b71105",
        "colab": {
          "base_uri": "https://localhost:8080/",
          "height": 35
        }
      },
      "source": [
        "Gauss(100)"
      ],
      "execution_count": 0,
      "outputs": [
        {
          "output_type": "execute_result",
          "data": {
            "text/plain": [
              "5050"
            ]
          },
          "metadata": {
            "tags": []
          },
          "execution_count": 5
        }
      ]
    },
    {
      "cell_type": "markdown",
      "metadata": {
        "id": "B2qGd7668zA_",
        "colab_type": "text"
      },
      "source": [
        "Şimdi de *Collatz Sanısı'na* (Collatz Conjecture) bakalım. Biz buna sanı diyeceğiz. Matematiksel olarak ispatlanmadı ama şimdiye kadar yanlışlanamadı da. Eğer doğru olduğunu ispatlarsan Matematikteki en büyük ödülü (Field Medal) alacağın kesindir. (Matematikte Nobel ödülü verilmiyor.)\n",
        "\n",
        "**Collatz Sanısı:** Verilen bir $n$ ile diziye başlayın. Eğer $n$ çift ise ikiye bölün, eğer tek sayı ise bu sayıyı 3 ile çarpıp 1 ekleyin. Bu dizi 1'e ulaştığında dizi sonar erer.  Hangi $n$ ile başlarsak başlayalım, her zaman 1'e ulaşır. Bunu matematiksel ifade olarak yazarsak:\n",
        "\n",
        "$$\n",
        "f(n) =\n",
        "\\begin{cases}\n",
        "n/2,  & \\text{eğer $n$ çift ise } \\\\\n",
        "3n+1, & \\text{eğer $n$ is tek ise}\n",
        "\\end{cases}\n",
        "$$\n",
        "\n",
        "Yukarıdaki ifadeyi kodun içine koyalım:\n",
        "\n",
        "\n",
        "\n",
        "\n"
      ]
    },
    {
      "cell_type": "code",
      "metadata": {
        "id": "16IyPJ7oECou",
        "colab_type": "code",
        "colab": {}
      },
      "source": [
        "def Collatz(n):\n",
        "  while n>1:\n",
        "    if n%2 == 0: # % operatörü bölümden kalan sayıyı verir. Kendin dene istersen\n",
        "       n = n/2\n",
        "    else:\n",
        "      n= 3*n +1\n",
        "    print(n, end=\" \") # end' burada çıktıyı bir sıraya koymak için kullandım. \n"
      ],
      "execution_count": 0,
      "outputs": []
    },
    {
      "cell_type": "code",
      "metadata": {
        "id": "90Z7NcTzEocH",
        "colab_type": "code",
        "outputId": "0f4c3854-7202-4cd4-f526-fa64ab4b6c96",
        "colab": {
          "base_uri": "https://localhost:8080/",
          "height": 35
        }
      },
      "source": [
        "Collatz(19)"
      ],
      "execution_count": 0,
      "outputs": [
        {
          "output_type": "stream",
          "text": [
            "58 29.0 88.0 44.0 22.0 11.0 34.0 17.0 52.0 26.0 13.0 40.0 20.0 10.0 5.0 16.0 8.0 4.0 2.0 1.0 "
          ],
          "name": "stdout"
        }
      ]
    },
    {
      "cell_type": "markdown",
      "metadata": {
        "id": "DVjQ5sIgEpgu",
        "colab_type": "text"
      },
      "source": [
        "Yukarıdaki fonksiyonu değiştirip, ulaştığı en yüksek sayıyı da bulan bir fonksiyon yazalım. Örnek olarak şöyle bir çıktı versin:\n",
        "\n",
        "Collatz sanısı 19 için doğrulandı ve bu sınama sonunda ulaşılan en yüksek sayı 88 oldu. "
      ]
    },
    {
      "cell_type": "code",
      "metadata": {
        "id": "7s-g6YeETcYz",
        "colab_type": "code",
        "colab": {}
      },
      "source": [
        ""
      ],
      "execution_count": 0,
      "outputs": []
    },
    {
      "cell_type": "code",
      "metadata": {
        "colab_type": "code",
        "id": "SDVcGZ5zTgYw",
        "colab": {}
      },
      "source": [
        "def Collatz_max(n):\n",
        "  n_init = n\n",
        "  max_number = n\n",
        "  while n>1:\n",
        "    if n%2 == 0: # % operatörü bölümden kalan sayıyı verir. Kendin dene istersen\n",
        "       n = n/2\n",
        "    else:\n",
        "      n= 3*n +1\n",
        "    if (n > max_number):\n",
        "      max_number = n\n",
        "  print(\"Collatz sanısı \" + str(n_init) + \" için doğrulandı ve bu sınama sonunda ulaşılan en yüksek sayı \" + str(max_number)+\" oldu\")\n",
        "\n"
      ],
      "execution_count": 0,
      "outputs": []
    },
    {
      "cell_type": "code",
      "metadata": {
        "id": "5PrYG82oTZfK",
        "colab_type": "code",
        "outputId": "88c7ea31-5ba6-4459-b1d2-b7c1ee8c4503",
        "colab": {
          "base_uri": "https://localhost:8080/",
          "height": 35
        }
      },
      "source": [
        "Collatz_max(19)"
      ],
      "execution_count": 0,
      "outputs": [
        {
          "output_type": "stream",
          "text": [
            "Collatz sanısı 19 için doğrulandı ve bu sınama sonunda ulaşılan en yüksek sayı 88.0 oldu\n"
          ],
          "name": "stdout"
        }
      ]
    },
    {
      "cell_type": "markdown",
      "metadata": {
        "id": "EvbmvSfdEuCi",
        "colab_type": "text"
      },
      "source": [
        ""
      ]
    },
    {
      "cell_type": "markdown",
      "metadata": {
        "id": "f3hMufYVguPz",
        "colab_type": "text"
      },
      "source": [
        "**Ödev 2 (Çözümlü):** Matematikçi Leibniz aşağıdaki formülü vermiştir.\n",
        "\n",
        "$$\n",
        "\\frac{\\pi}{4}= \\sum_{k=0}^{\\infty}\\frac{(-1)^k}{2k+1}\n",
        "$$\n",
        "Yukarıdaki formülün açılımı\n",
        "\n",
        "$$\n",
        "\\frac{\\pi}{4}= 1 - \\frac{1}{3}+\\frac{1}{5}-\\frac{1}{7}+\\frac{1}{9}-\\ldots\n",
        "$$\n",
        "şeklinde yazabiliriz. ```Leibniz_pi(n)``` isimli bir fonksiyon yazınız ve fonksiyon ```n```'e kadar Leibniz formülünü kullansın. Sonuçta $\\pi$'nin değerini ekrana bassın. "
      ]
    },
    {
      "cell_type": "code",
      "metadata": {
        "id": "SborILDAg5kt",
        "colab_type": "code",
        "colab": {}
      },
      "source": [
        "def Leibniz_pi(n):\n",
        "  sum=0\n",
        "  for i in range(0,n+1):\n",
        "    sum= sum+(-1)**i/(2*i+1)\n",
        "  result = sum*4\n",
        "  print(\"Pi=\"+ str(result))\n"
      ],
      "execution_count": 0,
      "outputs": []
    },
    {
      "cell_type": "code",
      "metadata": {
        "id": "8ehJhBFZjaLb",
        "colab_type": "code",
        "outputId": "1db2c2f4-04c8-4dd9-e796-003adf6d0637",
        "colab": {
          "base_uri": "https://localhost:8080/",
          "height": 35
        }
      },
      "source": [
        "Leibniz_pi(1000)"
      ],
      "execution_count": 0,
      "outputs": [
        {
          "output_type": "stream",
          "text": [
            "Pi=3.1425916543395442\n"
          ],
          "name": "stdout"
        }
      ]
    },
    {
      "cell_type": "markdown",
      "metadata": {
        "id": "yo6P_UaxjjIS",
        "colab_type": "text"
      },
      "source": [
        "**Ödev 3:**  3 ve 5'in katları\n",
        "\n",
        "Eğer 10'dan düşük (10 dahil değil) sayılardan 3 veya 5'in katları olan sayıları dizersek, 3,5,6,9 sayılarını elde ederiz. Bu sayıların toplamı 23 dir.\n",
        "\n",
        "1000'den düşük olan (1000 dahil değil) 3 veya 5'in katları olan sayıların toplamını yazan bir fonksiyon yazınız."
      ]
    },
    {
      "cell_type": "code",
      "metadata": {
        "id": "O4OKVr1VnH_D",
        "colab_type": "code",
        "outputId": "52933491-c48a-4142-d2ce-b77d9bb8c7ac",
        "colab": {
          "base_uri": "https://localhost:8080/",
          "height": 34
        }
      },
      "source": [
        "i=0\n",
        "for a in range (1000):\n",
        "  if (a%3==0)or (a%5==0):\n",
        "    i+=a\n",
        "print(\"bu sayıların toplamı =\", i)"
      ],
      "execution_count": 0,
      "outputs": [
        {
          "output_type": "stream",
          "text": [
            "bu sayıların toplamı = 233168\n"
          ],
          "name": "stdout"
        }
      ]
    },
    {
      "cell_type": "markdown",
      "metadata": {
        "id": "HkwzWQihx6_q",
        "colab_type": "text"
      },
      "source": [
        "**Ödev 4:** Çift Fibonacci Sayıları\n",
        "\n",
        "Fibonaci dizisinde her yeni terim kendinden önceki iki terimin toplamından elde edilir. 1 ve 2 ile başlayarak, ilk 10 terimin Fibonacci  dizisi\n",
        "\n",
        "$$\n",
        "1,2,3,5,8,13,21,34,55,89,\\ldots\n",
        "$$\n",
        "olur. \n",
        "\n",
        "Yukarıdaki diziyi matematiksel olarak yazarsak\n",
        "\n",
        "$$\n",
        "F_n=\n",
        "\\begin{cases}\n",
        "  0, & n=0\\\\\n",
        "  1, & n=1 \\\\\n",
        "  F_{n-1}+F_{n-2}, & n> 1\n",
        "\\end{cases}\n",
        "$$\n",
        "\n",
        "\n",
        "Fibonacci dizisinde değeri  4,000,000 (4 milyon dahil)'u geçmeyen sayıya kadar çift değerli Fibonacci terimlerinin toplamını bulun. \n",
        "\n",
        "Yardım: Aşağıdaki ```Fibonacci_term(n)``` n'ninci Fibonacci terimini vermektedir. Bu fonksiyonu başka bir fonksiyon içinde kullanarak ```Fibonacci_evenSum``` çift sayıların toplamını yapın. "
      ]
    },
    {
      "cell_type": "code",
      "metadata": {
        "id": "5tS1dBKZ0-ZS",
        "colab_type": "code",
        "colab": {}
      },
      "source": [
        "def Fibonacci_term(n): \n",
        "  if (n == 1):\n",
        "    return 1\n",
        "  if (n == 2):\n",
        "    return 2\n",
        "  else:\n",
        "    return Fibonacci_term(n-1) + Fibonacci_term(n-2)\n",
        "  \n",
        "\n",
        "\n",
        "\n",
        "\n"
      ],
      "execution_count": 0,
      "outputs": []
    },
    {
      "cell_type": "code",
      "metadata": {
        "id": "O6hJeNTVBsW_",
        "colab_type": "code",
        "outputId": "cad671e5-f7f5-4878-efc5-4643116c705f",
        "colab": {
          "base_uri": "https://localhost:8080/",
          "height": 35
        }
      },
      "source": [
        "Fibonacci_term(3)"
      ],
      "execution_count": 0,
      "outputs": [
        {
          "output_type": "execute_result",
          "data": {
            "text/plain": [
              "3"
            ]
          },
          "metadata": {
            "tags": []
          },
          "execution_count": 6
        }
      ]
    },
    {
      "cell_type": "code",
      "metadata": {
        "id": "bEN6gf34Bueg",
        "colab_type": "code",
        "outputId": "4e2d6649-f289-4e39-b871-eea0af262bcf",
        "colab": {
          "base_uri": "https://localhost:8080/",
          "height": 646
        }
      },
      "source": [
        "a,n=0,1\n",
        "toplam=0\n",
        "print(a)\n",
        "print(n)\n",
        "while n<(4000001):\n",
        "  a,n=a+n,a+2*n \n",
        "  print(a)\n",
        "  print(n)\n",
        "  if (a%2==0):\n",
        "    toplam+=a\n",
        "  if( n%2==0):\n",
        "    toplam+=n\n",
        "print(\"Sayıların toplamı : \",toplam)\n"
      ],
      "execution_count": 0,
      "outputs": [
        {
          "output_type": "stream",
          "text": [
            "0\n",
            "1\n",
            "1\n",
            "2\n",
            "3\n",
            "5\n",
            "8\n",
            "13\n",
            "21\n",
            "34\n",
            "55\n",
            "89\n",
            "144\n",
            "233\n",
            "377\n",
            "610\n",
            "987\n",
            "1597\n",
            "2584\n",
            "4181\n",
            "6765\n",
            "10946\n",
            "17711\n",
            "28657\n",
            "46368\n",
            "75025\n",
            "121393\n",
            "196418\n",
            "317811\n",
            "514229\n",
            "832040\n",
            "1346269\n",
            "2178309\n",
            "3524578\n",
            "5702887\n",
            "9227465\n",
            "Sayıların toplamı :  4613732\n"
          ],
          "name": "stdout"
        }
      ]
    },
    {
      "cell_type": "code",
      "metadata": {
        "id": "Hth_Ul5DD2aF",
        "colab_type": "code",
        "outputId": "ece42aa5-55bf-474f-b970-f2c77ed550a8",
        "colab": {
          "base_uri": "https://localhost:8080/",
          "height": 35
        }
      },
      "source": [
        "Fibonacci_evenSum(10)"
      ],
      "execution_count": 0,
      "outputs": [
        {
          "output_type": "execute_result",
          "data": {
            "text/plain": [
              "44"
            ]
          },
          "metadata": {
            "tags": []
          },
          "execution_count": 79
        }
      ]
    },
    {
      "cell_type": "code",
      "metadata": {
        "id": "egylnYn0EA_C",
        "colab_type": "code",
        "colab": {}
      },
      "source": [
        ""
      ],
      "execution_count": 0,
      "outputs": []
    }
  ]
}